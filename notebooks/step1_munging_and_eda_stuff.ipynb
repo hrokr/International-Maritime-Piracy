{
 "cells": [
  {
   "cell_type": "markdown",
   "metadata": {},
   "source": [
    "### You want to be in the '../International-Maritime-Piracy/notebooks' folder"
   ]
  },
  {
   "cell_type": "code",
   "execution_count": 1,
   "metadata": {},
   "outputs": [],
   "source": [
    "import os\n",
    "import re\n",
    "\n",
    "import pandas as pd"
   ]
  },
  {
   "cell_type": "code",
   "execution_count": 2,
   "metadata": {},
   "outputs": [
    {
     "data": {
      "text/html": [
       "<div>\n",
       "<style scoped>\n",
       "    .dataframe tbody tr th:only-of-type {\n",
       "        vertical-align: middle;\n",
       "    }\n",
       "\n",
       "    .dataframe tbody tr th {\n",
       "        vertical-align: top;\n",
       "    }\n",
       "\n",
       "    .dataframe thead th {\n",
       "        text-align: right;\n",
       "    }\n",
       "</style>\n",
       "<table border=\"1\" class=\"dataframe\">\n",
       "  <thead>\n",
       "    <tr style=\"text-align: right;\">\n",
       "      <th></th>\n",
       "      <th>reference</th>\n",
       "      <th>date</th>\n",
       "      <th>position</th>\n",
       "      <th>navArea</th>\n",
       "      <th>subreg</th>\n",
       "      <th>hostility</th>\n",
       "      <th>victim</th>\n",
       "      <th>description</th>\n",
       "      <th>Unnamed: 8</th>\n",
       "    </tr>\n",
       "  </thead>\n",
       "  <tbody>\n",
       "    <tr>\n",
       "      <th>0</th>\n",
       "      <td>2022-127</td>\n",
       "      <td>2022-04-28</td>\n",
       "      <td>13°43'00\"N \\n121°02'00\"E</td>\n",
       "      <td>XI</td>\n",
       "      <td>91</td>\n",
       "      <td>NaN</td>\n",
       "      <td>Marshall Islands-flagged tanker SEXTANS</td>\n",
       "      <td>PHILIPPINES: On 28 April, at 0345 local time, ...</td>\n",
       "      <td>NaN</td>\n",
       "    </tr>\n",
       "    <tr>\n",
       "      <th>1</th>\n",
       "      <td>2022-124</td>\n",
       "      <td>2022-04-27</td>\n",
       "      <td>1°16'00\"N \\n104°17'00\"E</td>\n",
       "      <td>XI</td>\n",
       "      <td>71</td>\n",
       "      <td>Boarding</td>\n",
       "      <td>Bulk carrier</td>\n",
       "      <td>INDONESIA On 27 April, at 0226 local time, a r...</td>\n",
       "      <td>NaN</td>\n",
       "    </tr>\n",
       "    <tr>\n",
       "      <th>2</th>\n",
       "      <td>2022-121</td>\n",
       "      <td>2022-04-26</td>\n",
       "      <td>0°04'00\"S \\n51°06'00\"W</td>\n",
       "      <td>V</td>\n",
       "      <td>24</td>\n",
       "      <td>Boarding</td>\n",
       "      <td>Bulk carrier</td>\n",
       "      <td>BRAZIL: On 26 April, at 0400 local time, three...</td>\n",
       "      <td>NaN</td>\n",
       "    </tr>\n",
       "    <tr>\n",
       "      <th>3</th>\n",
       "      <td>2022-128</td>\n",
       "      <td>2022-04-26</td>\n",
       "      <td>22°13'00\"N \\n91°43'00\"E</td>\n",
       "      <td>VIII</td>\n",
       "      <td>63</td>\n",
       "      <td>NaN</td>\n",
       "      <td>Singapore-flagged tanker STI MAGISTER</td>\n",
       "      <td>BANGLADESH: On 26 April, at 0001 local time, a...</td>\n",
       "      <td>NaN</td>\n",
       "    </tr>\n",
       "    <tr>\n",
       "      <th>4</th>\n",
       "      <td>2022-122</td>\n",
       "      <td>2022-04-25</td>\n",
       "      <td>59°19'00\"N \\n10°30'00\"E</td>\n",
       "      <td>I</td>\n",
       "      <td>44</td>\n",
       "      <td>Protest</td>\n",
       "      <td>Hong Kong-flagged tanker UST LUGA</td>\n",
       "      <td>NORWAY: On the morning of 25 April, a group of...</td>\n",
       "      <td>NaN</td>\n",
       "    </tr>\n",
       "  </tbody>\n",
       "</table>\n",
       "</div>"
      ],
      "text/plain": [
       "  reference        date                  position navArea  subreg hostility  \\\n",
       "0  2022-127  2022-04-28  13°43'00\"N \\n121°02'00\"E      XI      91       NaN   \n",
       "1  2022-124  2022-04-27   1°16'00\"N \\n104°17'00\"E      XI      71  Boarding   \n",
       "2  2022-121  2022-04-26    0°04'00\"S \\n51°06'00\"W       V      24  Boarding   \n",
       "3  2022-128  2022-04-26   22°13'00\"N \\n91°43'00\"E    VIII      63       NaN   \n",
       "4  2022-122  2022-04-25   59°19'00\"N \\n10°30'00\"E       I      44   Protest   \n",
       "\n",
       "                                    victim  \\\n",
       "0  Marshall Islands-flagged tanker SEXTANS   \n",
       "1                             Bulk carrier   \n",
       "2                             Bulk carrier   \n",
       "3    Singapore-flagged tanker STI MAGISTER   \n",
       "4        Hong Kong-flagged tanker UST LUGA   \n",
       "\n",
       "                                         description  Unnamed: 8  \n",
       "0  PHILIPPINES: On 28 April, at 0345 local time, ...         NaN  \n",
       "1  INDONESIA On 27 April, at 0226 local time, a r...         NaN  \n",
       "2  BRAZIL: On 26 April, at 0400 local time, three...         NaN  \n",
       "3  BANGLADESH: On 26 April, at 0001 local time, a...         NaN  \n",
       "4  NORWAY: On the morning of 25 April, a group of...         NaN  "
      ]
     },
     "execution_count": 2,
     "metadata": {},
     "output_type": "execute_result"
    }
   ],
   "source": [
    "data_directory = os.path.join('../data','RAW_all_piracy_events.csv')\n",
    "\n",
    "df = pd.read_csv(data_directory)\n",
    "df.head()"
   ]
  },
  {
   "cell_type": "code",
   "execution_count": 3,
   "metadata": {},
   "outputs": [],
   "source": [
    "df.drop(['Unnamed: 8'], axis=1, inplace=True)"
   ]
  },
  {
   "cell_type": "code",
   "execution_count": 4,
   "metadata": {},
   "outputs": [
    {
     "data": {
      "text/html": [
       "<div>\n",
       "<style scoped>\n",
       "    .dataframe tbody tr th:only-of-type {\n",
       "        vertical-align: middle;\n",
       "    }\n",
       "\n",
       "    .dataframe tbody tr th {\n",
       "        vertical-align: top;\n",
       "    }\n",
       "\n",
       "    .dataframe thead th {\n",
       "        text-align: right;\n",
       "    }\n",
       "</style>\n",
       "<table border=\"1\" class=\"dataframe\">\n",
       "  <thead>\n",
       "    <tr style=\"text-align: right;\">\n",
       "      <th></th>\n",
       "      <th>reference</th>\n",
       "      <th>date</th>\n",
       "      <th>position</th>\n",
       "      <th>navArea</th>\n",
       "      <th>subreg</th>\n",
       "      <th>hostility</th>\n",
       "      <th>victim</th>\n",
       "      <th>description</th>\n",
       "    </tr>\n",
       "  </thead>\n",
       "  <tbody>\n",
       "    <tr>\n",
       "      <th>0</th>\n",
       "      <td>2022-127</td>\n",
       "      <td>2022-04-28</td>\n",
       "      <td>13°43'00\"N \\n121°02'00\"E</td>\n",
       "      <td>XI</td>\n",
       "      <td>91</td>\n",
       "      <td>NaN</td>\n",
       "      <td>Marshall Islands-flagged tanker SEXTANS</td>\n",
       "      <td>PHILIPPINES: On 28 April, at 0345 local time, ...</td>\n",
       "    </tr>\n",
       "    <tr>\n",
       "      <th>1</th>\n",
       "      <td>2022-124</td>\n",
       "      <td>2022-04-27</td>\n",
       "      <td>1°16'00\"N \\n104°17'00\"E</td>\n",
       "      <td>XI</td>\n",
       "      <td>71</td>\n",
       "      <td>Boarding</td>\n",
       "      <td>Bulk carrier</td>\n",
       "      <td>INDONESIA On 27 April, at 0226 local time, a r...</td>\n",
       "    </tr>\n",
       "    <tr>\n",
       "      <th>2</th>\n",
       "      <td>2022-121</td>\n",
       "      <td>2022-04-26</td>\n",
       "      <td>0°04'00\"S \\n51°06'00\"W</td>\n",
       "      <td>V</td>\n",
       "      <td>24</td>\n",
       "      <td>Boarding</td>\n",
       "      <td>Bulk carrier</td>\n",
       "      <td>BRAZIL: On 26 April, at 0400 local time, three...</td>\n",
       "    </tr>\n",
       "    <tr>\n",
       "      <th>3</th>\n",
       "      <td>2022-128</td>\n",
       "      <td>2022-04-26</td>\n",
       "      <td>22°13'00\"N \\n91°43'00\"E</td>\n",
       "      <td>VIII</td>\n",
       "      <td>63</td>\n",
       "      <td>NaN</td>\n",
       "      <td>Singapore-flagged tanker STI MAGISTER</td>\n",
       "      <td>BANGLADESH: On 26 April, at 0001 local time, a...</td>\n",
       "    </tr>\n",
       "    <tr>\n",
       "      <th>4</th>\n",
       "      <td>2022-122</td>\n",
       "      <td>2022-04-25</td>\n",
       "      <td>59°19'00\"N \\n10°30'00\"E</td>\n",
       "      <td>I</td>\n",
       "      <td>44</td>\n",
       "      <td>Protest</td>\n",
       "      <td>Hong Kong-flagged tanker UST LUGA</td>\n",
       "      <td>NORWAY: On the morning of 25 April, a group of...</td>\n",
       "    </tr>\n",
       "  </tbody>\n",
       "</table>\n",
       "</div>"
      ],
      "text/plain": [
       "  reference        date                  position navArea  subreg hostility  \\\n",
       "0  2022-127  2022-04-28  13°43'00\"N \\n121°02'00\"E      XI      91       NaN   \n",
       "1  2022-124  2022-04-27   1°16'00\"N \\n104°17'00\"E      XI      71  Boarding   \n",
       "2  2022-121  2022-04-26    0°04'00\"S \\n51°06'00\"W       V      24  Boarding   \n",
       "3  2022-128  2022-04-26   22°13'00\"N \\n91°43'00\"E    VIII      63       NaN   \n",
       "4  2022-122  2022-04-25   59°19'00\"N \\n10°30'00\"E       I      44   Protest   \n",
       "\n",
       "                                    victim  \\\n",
       "0  Marshall Islands-flagged tanker SEXTANS   \n",
       "1                             Bulk carrier   \n",
       "2                             Bulk carrier   \n",
       "3    Singapore-flagged tanker STI MAGISTER   \n",
       "4        Hong Kong-flagged tanker UST LUGA   \n",
       "\n",
       "                                         description  \n",
       "0  PHILIPPINES: On 28 April, at 0345 local time, ...  \n",
       "1  INDONESIA On 27 April, at 0226 local time, a r...  \n",
       "2  BRAZIL: On 26 April, at 0400 local time, three...  \n",
       "3  BANGLADESH: On 26 April, at 0001 local time, a...  \n",
       "4  NORWAY: On the morning of 25 April, a group of...  "
      ]
     },
     "execution_count": 4,
     "metadata": {},
     "output_type": "execute_result"
    }
   ],
   "source": [
    "df.head()"
   ]
  },
  {
   "cell_type": "code",
   "execution_count": 5,
   "metadata": {},
   "outputs": [
    {
     "name": "stdout",
     "output_type": "stream",
     "text": [
      "<class 'pandas.core.frame.DataFrame'>\n",
      "RangeIndex: 8619 entries, 0 to 8618\n",
      "Data columns (total 8 columns):\n",
      " #   Column       Non-Null Count  Dtype \n",
      "---  ------       --------------  ----- \n",
      " 0   reference    8619 non-null   object\n",
      " 1   date         8619 non-null   object\n",
      " 2   position     8619 non-null   object\n",
      " 3   navArea      8616 non-null   object\n",
      " 4   subreg       8619 non-null   int64 \n",
      " 5   hostility    8107 non-null   object\n",
      " 6   victim       8327 non-null   object\n",
      " 7   description  8613 non-null   object\n",
      "dtypes: int64(1), object(7)\n",
      "memory usage: 538.8+ KB\n"
     ]
    }
   ],
   "source": [
    "df.info()"
   ]
  },
  {
   "cell_type": "markdown",
   "metadata": {},
   "source": [
    "### Split postion into Lat/Lon in prep for conversion to decimal degrees"
   ]
  },
  {
   "cell_type": "code",
   "execution_count": 6,
   "metadata": {},
   "outputs": [],
   "source": [
    "df = df.join(df['position'].str.split(expand=True)).rename(columns={0:'latitude', 1:'longitude'})\n",
    "df.drop('position', axis=1, inplace=True)"
   ]
  },
  {
   "cell_type": "code",
   "execution_count": 7,
   "metadata": {},
   "outputs": [
    {
     "data": {
      "text/html": [
       "<div>\n",
       "<style scoped>\n",
       "    .dataframe tbody tr th:only-of-type {\n",
       "        vertical-align: middle;\n",
       "    }\n",
       "\n",
       "    .dataframe tbody tr th {\n",
       "        vertical-align: top;\n",
       "    }\n",
       "\n",
       "    .dataframe thead th {\n",
       "        text-align: right;\n",
       "    }\n",
       "</style>\n",
       "<table border=\"1\" class=\"dataframe\">\n",
       "  <thead>\n",
       "    <tr style=\"text-align: right;\">\n",
       "      <th></th>\n",
       "      <th>reference</th>\n",
       "      <th>date</th>\n",
       "      <th>navArea</th>\n",
       "      <th>subreg</th>\n",
       "      <th>hostility</th>\n",
       "      <th>victim</th>\n",
       "      <th>description</th>\n",
       "      <th>latitude</th>\n",
       "      <th>longitude</th>\n",
       "    </tr>\n",
       "  </thead>\n",
       "  <tbody>\n",
       "    <tr>\n",
       "      <th>0</th>\n",
       "      <td>2022-127</td>\n",
       "      <td>2022-04-28</td>\n",
       "      <td>XI</td>\n",
       "      <td>91</td>\n",
       "      <td>NaN</td>\n",
       "      <td>Marshall Islands-flagged tanker SEXTANS</td>\n",
       "      <td>PHILIPPINES: On 28 April, at 0345 local time, ...</td>\n",
       "      <td>13°43'00\"N</td>\n",
       "      <td>121°02'00\"E</td>\n",
       "    </tr>\n",
       "  </tbody>\n",
       "</table>\n",
       "</div>"
      ],
      "text/plain": [
       "  reference        date navArea  subreg hostility  \\\n",
       "0  2022-127  2022-04-28      XI      91       NaN   \n",
       "\n",
       "                                    victim  \\\n",
       "0  Marshall Islands-flagged tanker SEXTANS   \n",
       "\n",
       "                                         description    latitude    longitude  \n",
       "0  PHILIPPINES: On 28 April, at 0345 local time, ...  13°43'00\"N  121°02'00\"E  "
      ]
     },
     "execution_count": 7,
     "metadata": {},
     "output_type": "execute_result"
    }
   ],
   "source": [
    "df.head(1)"
   ]
  },
  {
   "cell_type": "code",
   "execution_count": 8,
   "metadata": {},
   "outputs": [],
   "source": [
    "def dms2dd(s):\n",
    "    # example: s = \"\"\"0°51'56.29\"S\"\"\"\n",
    "    degrees, minutes, seconds, direction = re.split('[°\\'\"]+', s)\n",
    "    dd = float(degrees) + float(minutes)/60 + float(seconds)/(60*60);\n",
    "    if direction in ('S','W'):\n",
    "        dd*= -1\n",
    "    return dd"
   ]
  },
  {
   "cell_type": "code",
   "execution_count": 9,
   "metadata": {},
   "outputs": [
    {
     "data": {
      "text/html": [
       "<div>\n",
       "<style scoped>\n",
       "    .dataframe tbody tr th:only-of-type {\n",
       "        vertical-align: middle;\n",
       "    }\n",
       "\n",
       "    .dataframe tbody tr th {\n",
       "        vertical-align: top;\n",
       "    }\n",
       "\n",
       "    .dataframe thead th {\n",
       "        text-align: right;\n",
       "    }\n",
       "</style>\n",
       "<table border=\"1\" class=\"dataframe\">\n",
       "  <thead>\n",
       "    <tr style=\"text-align: right;\">\n",
       "      <th></th>\n",
       "      <th>reference</th>\n",
       "      <th>date</th>\n",
       "      <th>navArea</th>\n",
       "      <th>subreg</th>\n",
       "      <th>hostility</th>\n",
       "      <th>victim</th>\n",
       "      <th>description</th>\n",
       "      <th>latitude</th>\n",
       "      <th>longitude</th>\n",
       "    </tr>\n",
       "  </thead>\n",
       "  <tbody>\n",
       "    <tr>\n",
       "      <th>0</th>\n",
       "      <td>2022-127</td>\n",
       "      <td>2022-04-28</td>\n",
       "      <td>XI</td>\n",
       "      <td>91</td>\n",
       "      <td>NaN</td>\n",
       "      <td>Marshall Islands-flagged tanker SEXTANS</td>\n",
       "      <td>PHILIPPINES: On 28 April, at 0345 local time, ...</td>\n",
       "      <td>13.716667</td>\n",
       "      <td>121.033333</td>\n",
       "    </tr>\n",
       "    <tr>\n",
       "      <th>1</th>\n",
       "      <td>2022-124</td>\n",
       "      <td>2022-04-27</td>\n",
       "      <td>XI</td>\n",
       "      <td>71</td>\n",
       "      <td>Boarding</td>\n",
       "      <td>Bulk carrier</td>\n",
       "      <td>INDONESIA On 27 April, at 0226 local time, a r...</td>\n",
       "      <td>1.266667</td>\n",
       "      <td>104.283333</td>\n",
       "    </tr>\n",
       "    <tr>\n",
       "      <th>2</th>\n",
       "      <td>2022-121</td>\n",
       "      <td>2022-04-26</td>\n",
       "      <td>V</td>\n",
       "      <td>24</td>\n",
       "      <td>Boarding</td>\n",
       "      <td>Bulk carrier</td>\n",
       "      <td>BRAZIL: On 26 April, at 0400 local time, three...</td>\n",
       "      <td>-0.066667</td>\n",
       "      <td>-51.100000</td>\n",
       "    </tr>\n",
       "    <tr>\n",
       "      <th>3</th>\n",
       "      <td>2022-128</td>\n",
       "      <td>2022-04-26</td>\n",
       "      <td>VIII</td>\n",
       "      <td>63</td>\n",
       "      <td>NaN</td>\n",
       "      <td>Singapore-flagged tanker STI MAGISTER</td>\n",
       "      <td>BANGLADESH: On 26 April, at 0001 local time, a...</td>\n",
       "      <td>22.216667</td>\n",
       "      <td>91.716667</td>\n",
       "    </tr>\n",
       "  </tbody>\n",
       "</table>\n",
       "</div>"
      ],
      "text/plain": [
       "  reference        date navArea  subreg hostility  \\\n",
       "0  2022-127  2022-04-28      XI      91       NaN   \n",
       "1  2022-124  2022-04-27      XI      71  Boarding   \n",
       "2  2022-121  2022-04-26       V      24  Boarding   \n",
       "3  2022-128  2022-04-26    VIII      63       NaN   \n",
       "\n",
       "                                    victim  \\\n",
       "0  Marshall Islands-flagged tanker SEXTANS   \n",
       "1                             Bulk carrier   \n",
       "2                             Bulk carrier   \n",
       "3    Singapore-flagged tanker STI MAGISTER   \n",
       "\n",
       "                                         description   latitude   longitude  \n",
       "0  PHILIPPINES: On 28 April, at 0345 local time, ...  13.716667  121.033333  \n",
       "1  INDONESIA On 27 April, at 0226 local time, a r...   1.266667  104.283333  \n",
       "2  BRAZIL: On 26 April, at 0400 local time, three...  -0.066667  -51.100000  \n",
       "3  BANGLADESH: On 26 April, at 0001 local time, a...  22.216667   91.716667  "
      ]
     },
     "execution_count": 9,
     "metadata": {},
     "output_type": "execute_result"
    }
   ],
   "source": [
    "df['latitude'] = df['latitude'].apply(dms2dd).round(6)\n",
    "df['longitude'] = df['longitude'].apply(dms2dd).round(6)\n",
    "df.head(4)"
   ]
  },
  {
   "cell_type": "markdown",
   "metadata": {},
   "source": [
    "### What's up with the 'hostility' column?"
   ]
  },
  {
   "cell_type": "code",
   "execution_count": 10,
   "metadata": {},
   "outputs": [
    {
     "data": {
      "text/plain": [
       "ETHIOPIA                      2\n",
       "Three Pirates                 2\n",
       "LTTE TERRORISTS               2\n",
       "SUSPICOUS APPROACH            2\n",
       "TWO SPEED BOATS               2\n",
       "PRIATES                       2\n",
       "UNIDENTIFIED ATTACKERS        2\n",
       "CHINESE AUTHORITIES           2\n",
       "POSSIBLE TERRORISTS           2\n",
       "FIVE PIRATES                  2\n",
       "FOUR PIRATES                  2\n",
       "FISHING BOATS                 2\n",
       "ATTEMPTED BOARDING            2\n",
       "MILITANTS                     2\n",
       "PIRACY                        2\n",
       "Two white speedboats          1\n",
       "PRATES                        1\n",
       "SRI LANKAN NAVY               1\n",
       "NAVAL PERSONNEL               1\n",
       "PIRATES ATTACK                1\n",
       "MILITIAMEN                    1\n",
       "SHORESIDE PIRATES             1\n",
       "PIRATES / KIDNAPPING          1\n",
       "SUSPICUIOUS APPROACH          1\n",
       "SUSPECTED PIRATE              1\n",
       "Terrorist Attack              1\n",
       "SUS[ICIOUS APPROACH           1\n",
       "YACHT                         1\n",
       "SEPARIST REBELS               1\n",
       "suspicous approach            1\n",
       "SUSPIPICIOUS APPROACH         1\n",
       "IMMIGRANTS                    1\n",
       " SUSPICIOUS APPROACH          1\n",
       "STALKER                       1\n",
       "PIRATE HIJACKING              1\n",
       "PIERATES                      1\n",
       "SUSPICICIOUS APPROACH         1\n",
       "Small speedboats              1\n",
       "Suspected suicide cadres      1\n",
       "Four speedboats               1\n",
       "24-APR-2002                   1\n",
       "PIRATERS                      1\n",
       "Suspected Pirates             1\n",
       "Four suspicious speedboats    1\n",
       "SUSPICIOUS APPRAOCH           1\n",
       "suspicious vessel             1\n",
       "SUSPCIOUS APPROACH            1\n",
       "SUSPICIOPUS APPROACH          1\n",
       "NAVAL VESSEL                  1\n",
       "MILITANT ATTACK               1\n",
       "Name: hostility, dtype: int64"
      ]
     },
     "execution_count": 10,
     "metadata": {},
     "output_type": "execute_result"
    }
   ],
   "source": [
    "df['hostility'].value_counts()[100:150]"
   ]
  },
  {
   "cell_type": "markdown",
   "metadata": {},
   "source": [
    "### Under 'hostility' - how many different terms are there?"
   ]
  },
  {
   "cell_type": "code",
   "execution_count": 11,
   "metadata": {},
   "outputs": [
    {
     "data": {
      "text/plain": [
       "431"
      ]
     },
     "execution_count": 11,
     "metadata": {},
     "output_type": "execute_result"
    }
   ],
   "source": [
    "df['hostility'].nunique()"
   ]
  },
  {
   "cell_type": "markdown",
   "metadata": {},
   "source": [
    "### Under 'victim' - how many different terms are there?"
   ]
  },
  {
   "cell_type": "code",
   "execution_count": 12,
   "metadata": {},
   "outputs": [
    {
     "data": {
      "text/plain": [
       "1589"
      ]
     },
     "execution_count": 12,
     "metadata": {},
     "output_type": "execute_result"
    }
   ],
   "source": [
    "df['victim'].nunique()"
   ]
  },
  {
   "cell_type": "code",
   "execution_count": 13,
   "metadata": {},
   "outputs": [
    {
     "data": {
      "text/plain": [
       "GS FABULOUS                                           1\n",
       "AP 703                                                1\n",
       "Container vessel BAHMAS                               1\n",
       "AMINA                                                 1\n",
       "BERTHED CHEMICAL TANKER                               1\n",
       "SEA DIAMOND                                           1\n",
       "ANCHORED GENERAL CARGO SHIP                           1\n",
       "MOHAMED BEY                                           1\n",
       "Liberia-flagged container ship ELA                    1\n",
       "ARGUELLO                                              1\n",
       "WATER PHOENIX                                         1\n",
       "BOW ORION                                             1\n",
       "QUEEN OF THE NETHERLANDS                              1\n",
       "Underway oil tanker PIKE                              1\n",
       "ANCHORED TANKER                                       1\n",
       "BLUE COMMANDER                                        1\n",
       "RIO CHARLESTON                                        1\n",
       "HAI LU FENG 11                                        1\n",
       "TOSNA STAR                                            1\n",
       "STOLT APAL                                            1\n",
       "OCEAN LEADER                                          1\n",
       "SMS SANGATTA                                          1\n",
       "BALTIC COVE                                           1\n",
       "MAERSK REGENSBURG                                     1\n",
       "PLATFORM                                              1\n",
       "ARTIKE                                                1\n",
       "MULTIPLE VESSELS                                      1\n",
       "PANOFI FRONTIER                                       1\n",
       "GLOBAL PHENIX                                         1\n",
       "WOLVERINE                                             1\n",
       "MWV FALCON                                            1\n",
       "CURACAO TRADER                                        1\n",
       "NEWARK                                                1\n",
       "NATALIE                                               1\n",
       "BS AYRES                                              1\n",
       "MSC REVENNA                                           1\n",
       "SIRAJ                                                 1\n",
       "Chemical Tanker Vessel                                1\n",
       "Italy-flagged bulk carrier RESILIENCE                 1\n",
       "Motor vessel                                          1\n",
       "24-foot wooden pirogue                                1\n",
       "Liberia-flagged heavy lift ship ZHEN HUA 7            1\n",
       "Togo-flagged tanker STELIOS K                         1\n",
       "Panama-flagged bulk carrier ASIA SPRING               1\n",
       "Panama-flagged product tanker ERRINA                  1\n",
       "Marshall Islands-flagged product tanker FAIRCHEM S    1\n",
       "Singapore-flagged LPG Tanker EPIC BOLIVAR             1\n",
       "Marshall Islands-flagged bulk carrier SEMIRIO         1\n",
       "Marshall Island-flagged LA BOHEME                     1\n",
       "Marshall Islands-flagged chemical tanker AGISILAOS    1\n",
       "Name: victim, dtype: int64"
      ]
     },
     "execution_count": 13,
     "metadata": {},
     "output_type": "execute_result"
    }
   ],
   "source": [
    "df['victim'].value_counts()[900:950]"
   ]
  },
  {
   "cell_type": "markdown",
   "metadata": {},
   "source": [
    "### Convert datetime to just the year for a slider"
   ]
  },
  {
   "cell_type": "code",
   "execution_count": 14,
   "metadata": {},
   "outputs": [
    {
     "data": {
      "text/html": [
       "<div>\n",
       "<style scoped>\n",
       "    .dataframe tbody tr th:only-of-type {\n",
       "        vertical-align: middle;\n",
       "    }\n",
       "\n",
       "    .dataframe tbody tr th {\n",
       "        vertical-align: top;\n",
       "    }\n",
       "\n",
       "    .dataframe thead th {\n",
       "        text-align: right;\n",
       "    }\n",
       "</style>\n",
       "<table border=\"1\" class=\"dataframe\">\n",
       "  <thead>\n",
       "    <tr style=\"text-align: right;\">\n",
       "      <th></th>\n",
       "      <th>reference</th>\n",
       "      <th>date</th>\n",
       "      <th>navArea</th>\n",
       "      <th>subreg</th>\n",
       "      <th>hostility</th>\n",
       "      <th>victim</th>\n",
       "      <th>description</th>\n",
       "      <th>latitude</th>\n",
       "      <th>longitude</th>\n",
       "      <th>date2</th>\n",
       "    </tr>\n",
       "  </thead>\n",
       "  <tbody>\n",
       "    <tr>\n",
       "      <th>0</th>\n",
       "      <td>2022-127</td>\n",
       "      <td>2022-04-28</td>\n",
       "      <td>XI</td>\n",
       "      <td>91</td>\n",
       "      <td>NaN</td>\n",
       "      <td>Marshall Islands-flagged tanker SEXTANS</td>\n",
       "      <td>PHILIPPINES: On 28 April, at 0345 local time, ...</td>\n",
       "      <td>13.716667</td>\n",
       "      <td>121.033333</td>\n",
       "      <td>2022-04-28</td>\n",
       "    </tr>\n",
       "  </tbody>\n",
       "</table>\n",
       "</div>"
      ],
      "text/plain": [
       "  reference        date navArea  subreg hostility  \\\n",
       "0  2022-127  2022-04-28      XI      91       NaN   \n",
       "\n",
       "                                    victim  \\\n",
       "0  Marshall Islands-flagged tanker SEXTANS   \n",
       "\n",
       "                                         description   latitude   longitude  \\\n",
       "0  PHILIPPINES: On 28 April, at 0345 local time, ...  13.716667  121.033333   \n",
       "\n",
       "       date2  \n",
       "0 2022-04-28  "
      ]
     },
     "execution_count": 14,
     "metadata": {},
     "output_type": "execute_result"
    }
   ],
   "source": [
    "df['date2'] = pd.to_datetime(df['date'], format='%Y/%m/%d')\n",
    "df.head(1)"
   ]
  },
  {
   "cell_type": "code",
   "execution_count": 15,
   "metadata": {},
   "outputs": [
    {
     "data": {
      "text/html": [
       "<div>\n",
       "<style scoped>\n",
       "    .dataframe tbody tr th:only-of-type {\n",
       "        vertical-align: middle;\n",
       "    }\n",
       "\n",
       "    .dataframe tbody tr th {\n",
       "        vertical-align: top;\n",
       "    }\n",
       "\n",
       "    .dataframe thead th {\n",
       "        text-align: right;\n",
       "    }\n",
       "</style>\n",
       "<table border=\"1\" class=\"dataframe\">\n",
       "  <thead>\n",
       "    <tr style=\"text-align: right;\">\n",
       "      <th></th>\n",
       "      <th>reference</th>\n",
       "      <th>latitude</th>\n",
       "      <th>longitude</th>\n",
       "      <th>date</th>\n",
       "      <th>year</th>\n",
       "      <th>description</th>\n",
       "      <th>hostility</th>\n",
       "      <th>victim</th>\n",
       "      <th>navArea</th>\n",
       "      <th>subreg</th>\n",
       "    </tr>\n",
       "  </thead>\n",
       "  <tbody>\n",
       "    <tr>\n",
       "      <th>0</th>\n",
       "      <td>2022-127</td>\n",
       "      <td>13.716667</td>\n",
       "      <td>121.033333</td>\n",
       "      <td>2022-04-28</td>\n",
       "      <td>2022</td>\n",
       "      <td>PHILIPPINES: On 28 April, at 0345 local time, ...</td>\n",
       "      <td>NaN</td>\n",
       "      <td>Marshall Islands-flagged tanker SEXTANS</td>\n",
       "      <td>XI</td>\n",
       "      <td>91</td>\n",
       "    </tr>\n",
       "    <tr>\n",
       "      <th>1</th>\n",
       "      <td>2022-124</td>\n",
       "      <td>1.266667</td>\n",
       "      <td>104.283333</td>\n",
       "      <td>2022-04-27</td>\n",
       "      <td>2022</td>\n",
       "      <td>INDONESIA On 27 April, at 0226 local time, a r...</td>\n",
       "      <td>Boarding</td>\n",
       "      <td>Bulk carrier</td>\n",
       "      <td>XI</td>\n",
       "      <td>71</td>\n",
       "    </tr>\n",
       "    <tr>\n",
       "      <th>2</th>\n",
       "      <td>2022-121</td>\n",
       "      <td>-0.066667</td>\n",
       "      <td>-51.100000</td>\n",
       "      <td>2022-04-26</td>\n",
       "      <td>2022</td>\n",
       "      <td>BRAZIL: On 26 April, at 0400 local time, three...</td>\n",
       "      <td>Boarding</td>\n",
       "      <td>Bulk carrier</td>\n",
       "      <td>V</td>\n",
       "      <td>24</td>\n",
       "    </tr>\n",
       "    <tr>\n",
       "      <th>3</th>\n",
       "      <td>2022-128</td>\n",
       "      <td>22.216667</td>\n",
       "      <td>91.716667</td>\n",
       "      <td>2022-04-26</td>\n",
       "      <td>2022</td>\n",
       "      <td>BANGLADESH: On 26 April, at 0001 local time, a...</td>\n",
       "      <td>NaN</td>\n",
       "      <td>Singapore-flagged tanker STI MAGISTER</td>\n",
       "      <td>VIII</td>\n",
       "      <td>63</td>\n",
       "    </tr>\n",
       "    <tr>\n",
       "      <th>4</th>\n",
       "      <td>2022-122</td>\n",
       "      <td>59.316667</td>\n",
       "      <td>10.500000</td>\n",
       "      <td>2022-04-25</td>\n",
       "      <td>2022</td>\n",
       "      <td>NORWAY: On the morning of 25 April, a group of...</td>\n",
       "      <td>Protest</td>\n",
       "      <td>Hong Kong-flagged tanker UST LUGA</td>\n",
       "      <td>I</td>\n",
       "      <td>44</td>\n",
       "    </tr>\n",
       "  </tbody>\n",
       "</table>\n",
       "</div>"
      ],
      "text/plain": [
       "  reference   latitude   longitude       date  year  \\\n",
       "0  2022-127  13.716667  121.033333 2022-04-28  2022   \n",
       "1  2022-124   1.266667  104.283333 2022-04-27  2022   \n",
       "2  2022-121  -0.066667  -51.100000 2022-04-26  2022   \n",
       "3  2022-128  22.216667   91.716667 2022-04-26  2022   \n",
       "4  2022-122  59.316667   10.500000 2022-04-25  2022   \n",
       "\n",
       "                                         description hostility  \\\n",
       "0  PHILIPPINES: On 28 April, at 0345 local time, ...       NaN   \n",
       "1  INDONESIA On 27 April, at 0226 local time, a r...  Boarding   \n",
       "2  BRAZIL: On 26 April, at 0400 local time, three...  Boarding   \n",
       "3  BANGLADESH: On 26 April, at 0001 local time, a...       NaN   \n",
       "4  NORWAY: On the morning of 25 April, a group of...   Protest   \n",
       "\n",
       "                                    victim navArea  subreg  \n",
       "0  Marshall Islands-flagged tanker SEXTANS      XI      91  \n",
       "1                             Bulk carrier      XI      71  \n",
       "2                             Bulk carrier       V      24  \n",
       "3    Singapore-flagged tanker STI MAGISTER    VIII      63  \n",
       "4        Hong Kong-flagged tanker UST LUGA       I      44  "
      ]
     },
     "execution_count": 15,
     "metadata": {},
     "output_type": "execute_result"
    }
   ],
   "source": [
    "df['year'] = pd.DatetimeIndex(df['date2']).year\n",
    "df[\"date\"] = pd.to_datetime(df[\"date2\"])\n",
    "\n",
    "df = df[['reference', 'latitude', 'longitude', 'date', 'year', 'description', 'hostility', 'victim', 'navArea', 'subreg' ]]\n",
    "\n",
    "# sanity check\n",
    "df.head()"
   ]
  },
  {
   "cell_type": "markdown",
   "metadata": {},
   "source": [
    "### Right, the NaNs would mess things up. Let's convert them to something that can be parsed later"
   ]
  },
  {
   "cell_type": "code",
   "execution_count": 16,
   "metadata": {},
   "outputs": [
    {
     "data": {
      "text/html": [
       "<div>\n",
       "<style scoped>\n",
       "    .dataframe tbody tr th:only-of-type {\n",
       "        vertical-align: middle;\n",
       "    }\n",
       "\n",
       "    .dataframe tbody tr th {\n",
       "        vertical-align: top;\n",
       "    }\n",
       "\n",
       "    .dataframe thead th {\n",
       "        text-align: right;\n",
       "    }\n",
       "</style>\n",
       "<table border=\"1\" class=\"dataframe\">\n",
       "  <thead>\n",
       "    <tr style=\"text-align: right;\">\n",
       "      <th></th>\n",
       "      <th>reference</th>\n",
       "      <th>latitude</th>\n",
       "      <th>longitude</th>\n",
       "      <th>date</th>\n",
       "      <th>year</th>\n",
       "      <th>description</th>\n",
       "      <th>hostility</th>\n",
       "      <th>victim</th>\n",
       "      <th>navArea</th>\n",
       "      <th>subreg</th>\n",
       "    </tr>\n",
       "  </thead>\n",
       "  <tbody>\n",
       "    <tr>\n",
       "      <th>0</th>\n",
       "      <td>2022-127</td>\n",
       "      <td>13.716667</td>\n",
       "      <td>121.033333</td>\n",
       "      <td>2022-04-28</td>\n",
       "      <td>2022</td>\n",
       "      <td>PHILIPPINES: On 28 April, at 0345 local time, ...</td>\n",
       "      <td>No information</td>\n",
       "      <td>Marshall Islands-flagged tanker SEXTANS</td>\n",
       "      <td>XI</td>\n",
       "      <td>91</td>\n",
       "    </tr>\n",
       "    <tr>\n",
       "      <th>1</th>\n",
       "      <td>2022-124</td>\n",
       "      <td>1.266667</td>\n",
       "      <td>104.283333</td>\n",
       "      <td>2022-04-27</td>\n",
       "      <td>2022</td>\n",
       "      <td>INDONESIA On 27 April, at 0226 local time, a r...</td>\n",
       "      <td>Boarding</td>\n",
       "      <td>Bulk carrier</td>\n",
       "      <td>XI</td>\n",
       "      <td>71</td>\n",
       "    </tr>\n",
       "    <tr>\n",
       "      <th>2</th>\n",
       "      <td>2022-121</td>\n",
       "      <td>-0.066667</td>\n",
       "      <td>-51.100000</td>\n",
       "      <td>2022-04-26</td>\n",
       "      <td>2022</td>\n",
       "      <td>BRAZIL: On 26 April, at 0400 local time, three...</td>\n",
       "      <td>Boarding</td>\n",
       "      <td>Bulk carrier</td>\n",
       "      <td>V</td>\n",
       "      <td>24</td>\n",
       "    </tr>\n",
       "    <tr>\n",
       "      <th>3</th>\n",
       "      <td>2022-128</td>\n",
       "      <td>22.216667</td>\n",
       "      <td>91.716667</td>\n",
       "      <td>2022-04-26</td>\n",
       "      <td>2022</td>\n",
       "      <td>BANGLADESH: On 26 April, at 0001 local time, a...</td>\n",
       "      <td>No information</td>\n",
       "      <td>Singapore-flagged tanker STI MAGISTER</td>\n",
       "      <td>VIII</td>\n",
       "      <td>63</td>\n",
       "    </tr>\n",
       "    <tr>\n",
       "      <th>4</th>\n",
       "      <td>2022-122</td>\n",
       "      <td>59.316667</td>\n",
       "      <td>10.500000</td>\n",
       "      <td>2022-04-25</td>\n",
       "      <td>2022</td>\n",
       "      <td>NORWAY: On the morning of 25 April, a group of...</td>\n",
       "      <td>Protest</td>\n",
       "      <td>Hong Kong-flagged tanker UST LUGA</td>\n",
       "      <td>I</td>\n",
       "      <td>44</td>\n",
       "    </tr>\n",
       "  </tbody>\n",
       "</table>\n",
       "</div>"
      ],
      "text/plain": [
       "  reference   latitude   longitude       date  year  \\\n",
       "0  2022-127  13.716667  121.033333 2022-04-28  2022   \n",
       "1  2022-124   1.266667  104.283333 2022-04-27  2022   \n",
       "2  2022-121  -0.066667  -51.100000 2022-04-26  2022   \n",
       "3  2022-128  22.216667   91.716667 2022-04-26  2022   \n",
       "4  2022-122  59.316667   10.500000 2022-04-25  2022   \n",
       "\n",
       "                                         description       hostility  \\\n",
       "0  PHILIPPINES: On 28 April, at 0345 local time, ...  No information   \n",
       "1  INDONESIA On 27 April, at 0226 local time, a r...        Boarding   \n",
       "2  BRAZIL: On 26 April, at 0400 local time, three...        Boarding   \n",
       "3  BANGLADESH: On 26 April, at 0001 local time, a...  No information   \n",
       "4  NORWAY: On the morning of 25 April, a group of...         Protest   \n",
       "\n",
       "                                    victim navArea  subreg  \n",
       "0  Marshall Islands-flagged tanker SEXTANS      XI      91  \n",
       "1                             Bulk carrier      XI      71  \n",
       "2                             Bulk carrier       V      24  \n",
       "3    Singapore-flagged tanker STI MAGISTER    VIII      63  \n",
       "4        Hong Kong-flagged tanker UST LUGA       I      44  "
      ]
     },
     "execution_count": 16,
     "metadata": {},
     "output_type": "execute_result"
    }
   ],
   "source": [
    "df.fillna(\"No information\", inplace=True)\n",
    "df.isnull().sum().sum()\n",
    "df.head(5)"
   ]
  },
  {
   "cell_type": "code",
   "execution_count": 17,
   "metadata": {},
   "outputs": [],
   "source": [
    "os.makedirs('../data/in_progress', exist_ok=True)  \n",
    "\n",
    "df.to_csv('../data/in_progress/v1_lat_long.csv') "
   ]
  },
  {
   "cell_type": "code",
   "execution_count": null,
   "metadata": {},
   "outputs": [],
   "source": []
  },
  {
   "cell_type": "code",
   "execution_count": null,
   "metadata": {},
   "outputs": [],
   "source": []
  },
  {
   "cell_type": "markdown",
   "metadata": {},
   "source": [
    "# Future work"
   ]
  },
  {
   "cell_type": "markdown",
   "metadata": {},
   "source": [
    "1. remove the excess spaces in the description column.\n",
    "\n",
    "2. hostility - easy first pass would be to trust the data ruthlessly pare down the columns\n",
    "\n",
    "3. victim - easy first pass would be to trust the data ruthlessly pare down the columns\n",
    "\n",
    "4. description - NLP to set the hostility and possibly victim columns\n"
   ]
  },
  {
   "cell_type": "markdown",
   "metadata": {},
   "source": [
    "#### The excel file for the description has a lot a weird spacing. Does that show here?\n",
    "\n",
    "Why, yes it does."
   ]
  },
  {
   "cell_type": "code",
   "execution_count": 18,
   "metadata": {},
   "outputs": [
    {
     "data": {
      "text/plain": [
       "8450    W. MEDITERRANIAN-COAST OF ALGERIA-VICINITY CAP...\n",
       "Name: description, dtype: object"
      ]
     },
     "execution_count": 18,
     "metadata": {},
     "output_type": "execute_result"
    }
   ],
   "source": [
    "df['description'][df[\"reference\"]=='1991-21']"
   ]
  },
  {
   "cell_type": "markdown",
   "metadata": {},
   "source": []
  },
  {
   "cell_type": "code",
   "execution_count": null,
   "metadata": {},
   "outputs": [],
   "source": []
  },
  {
   "cell_type": "markdown",
   "metadata": {},
   "source": [
    "### Let's regularize the 'hostility' columns values"
   ]
  },
  {
   "cell_type": "code",
   "execution_count": 19,
   "metadata": {},
   "outputs": [
    {
     "data": {
      "text/plain": [
       "432"
      ]
     },
     "execution_count": 19,
     "metadata": {},
     "output_type": "execute_result"
    }
   ],
   "source": [
    "first_cut = df.hostility.nunique()\n",
    "first_cut"
   ]
  },
  {
   "cell_type": "code",
   "execution_count": 20,
   "metadata": {},
   "outputs": [
    {
     "data": {
      "text/plain": [
       "array([' SUSPICIOUS APPROACH', '15 PIRATES', '24-APR-2002',\n",
       "       '25 SPEEDBOATS', 'ACTIVISTS', 'ALGERIAN COASTAL PATROL',\n",
       "       'ALLEGED POLISARIO FRONT', 'AMERBER II', 'ARMED PIRATES',\n",
       "       'ARMED ROBBERS', 'ARMED ROBBERY', 'ASSAILANTS', 'ATTACKER',\n",
       "       'ATTACKERS', 'ATTEMPTED BOARDING', 'AUTHORITIES IN JACMEL, HAITI',\n",
       "       'Algerian Patrol Vessel',\n",
       "       'Approached by fishing boat with four armed men',\n",
       "       'Approached by skiff', 'Armed Pirates', 'Armed boarders',\n",
       "       'Armed men in a speedboat', 'Armed persons boarding',\n",
       "       'Armed persons in a skiff fired upon a tanker',\n",
       "       'Armed robbers boarded vessel', 'Armed robbers boarding',\n",
       "       'Armed robebrs', 'Assailants', 'Attacked and boarded',\n",
       "       'Attacked and fired upon', 'Attacked three passenger boats',\n",
       "       'Attempted Boarding', 'Attempted boarding', 'Attempted robbery',\n",
       "       'BANDITS', 'BLUE SPEEDBOAT', 'BOARDED BY ARMED ROBBERS', 'BOARDER',\n",
       "       'BOARDERS', 'BOARDING', 'BOAT', 'BURMESE PIRATES', 'Bandits',\n",
       "       'Boarded by five robbers', 'Boarders', 'Boarding',\n",
       "       'Boarding and attempted robbery', 'Boarding by robbers',\n",
       "       'Boarding by three robbers', 'Boarding vessel',\n",
       "       'CHINESE AUTHORITIES', 'CHINESE BORDER VESSEL',\n",
       "       'CHINESE FISHERMAN', 'CHINESE MILITARY FORCES',\n",
       "       'CHINESE NAVY VESSEL NO. 162', 'CHINESE VILLAGERS',\n",
       "       'CHINESE WARSHIP', 'CHRISTIAN LEBANESE FORCES', 'CHRISTIANS',\n",
       "       'CUBAN GUNBOAT', 'Catamaran stolen', 'Coast Guard',\n",
       "       'DRUG SMUGGLING', 'Duty oiler taken hostage by five armed robbers',\n",
       "       'EIGHT ARMED PIRATES', 'EPLF', 'EQUATORIAL GUINEA',\n",
       "       'ERITREAN PEOPLES LIBERATION FRONT', 'ETHIOPIA', 'EXPLOSION',\n",
       "       'Eight robbers attempted boarding', 'FARC GUERRILLAS',\n",
       "       'FISHING BOAT', 'FISHING BOATS', 'FIVE PIRATES', 'FOUR BOATS',\n",
       "       'FOUR PIRATES', 'FOUR SPEEDBOATS', 'FREE ACEH MOVEMENT',\n",
       "       'Fired upon vessel', 'Five Armed robbers', 'Five Pirates',\n",
       "       'Five armed robber boarded bulk carrier', 'Five armed robbers',\n",
       "       'Five or six small boats', 'Five pirates',\n",
       "       'Five robbers boarded bulk carrier', 'Five robbers boarded ship',\n",
       "       'Five robbers boarded tanker', 'Five robbers boarded vessel',\n",
       "       'Five robbers in a wooden boat attempted to board', 'Fly boat',\n",
       "       'Four Pirates', 'Four Speed Boats', 'Four armed robbers',\n",
       "       'Four persons kidnapped', 'Four robbers boarded chemical tanker',\n",
       "       'Four robbers boarded vessel', 'Four speedboats',\n",
       "       'Four suspicious speedboats', 'GANG MEMBERS',\n",
       "       'GREEN AND WHITE WOODEN BOAT', 'GREENPEACE ACTIVISTS',\n",
       "       'GUADALCANAL MILITANTS', 'GUERRILLAS',\n",
       "       'GUINEA-BISSAU GOVERNMENT FORCES', 'GUNBOAT', 'GUNMAN', 'GUNMEN',\n",
       "       'Gunboats', 'Gunmen', 'HAITIAN AUTHORITIES', 'HAPPY LADY',\n",
       "       'HIJACKER', 'HIJACKERS', 'Hijackers', 'Hijacking',\n",
       "       'Hijacking and kidnapping',\n",
       "       'Hong Kong-flagged container ship MOUNT BUTLER', 'IMMIGRANTS',\n",
       "       'INTRUDER', 'INTRUDERS', 'IRAN', 'IRANIAN NAVAL FORCES',\n",
       "       'IRANIAN NAVY', 'IRAQ', 'Intruders', 'KAREN PIRATES',\n",
       "       'KAREN REBELS', 'KIDNAPPER', 'KIDNAPPERS',\n",
       "       'KIdnapped two fishermen', 'KUWAITI GUNBOAT', 'Kidnappers',\n",
       "       'LETUGBENE COMMUNITY', 'LIBERIAN REBEL SHIPS', 'LTTE',\n",
       "       'LTTE ARTILLERY', 'LTTE PIRATES', 'LTTE REBEL FORCES',\n",
       "       'LTTE REBELS', 'LTTE SEA TIGERS', 'LTTE TERRORISTS',\n",
       "       'MALDIVIAN AUTHORITIES', 'MERCHANT VESSEL', 'MILF REBELS',\n",
       "       'MILITANT ATTACK', 'MILITANT YOUTHS', 'MILITANTS',\n",
       "       'MILITANTS/PIRATES', 'MILITIAMEN', 'MOGADISHU REBELS',\n",
       "       'MOROCCAN NAVAL FORCES', 'MOTOR BOATS', 'MUTINY', 'Militants',\n",
       "       'Military', 'Military Activity', 'Military activity',\n",
       "       'Mothership Activity', 'NAVAL PERSONNEL', 'NAVAL VESSEL',\n",
       "       'NAVY VESSEL', 'NIGERIAN MILITARY FORCES', 'NIGERIAN NATIONALS',\n",
       "       'NIGERIAN TRIBAL YOUTH GANGS', 'NINE SMALL BOATS', 'NORTH KOREA',\n",
       "       'Nine crew members kidnapped', 'No information', 'ONE PIRATE',\n",
       "       'P0LISARIO FRONT', 'PATROL BOAT', 'PATROL VESSEL',\n",
       "       'PEOPLES DEMOCRATIC REPUBLIC OF YEMEN', 'PIERATES', 'PIRACY',\n",
       "       'PIRATE', 'PIRATE ACTIVITY', 'PIRATE ATTACK', 'PIRATE BOARDING',\n",
       "       'PIRATE HIJACKING', 'PIRATE THEFT', 'PIRATERS', 'PIRATES',\n",
       "       'PIRATES (PEOPLES REPUBLIC OF CHINA)', 'PIRATES (ROBBERS)',\n",
       "       'PIRATES / KIDNAPPING', 'PIRATES / MOSLEM REBELS',\n",
       "       'PIRATES ATTACK', 'PIRATES, ARMED MEN', 'PIRATES/THIEVES',\n",
       "       'PIRATESS', 'PIRTATES', 'POACHERS', 'POLISARIO FRONT',\n",
       "       'POLISARIO FRONT GUERRILLAS', 'POSSIBLE TERRORISTS', 'PRATES',\n",
       "       'PRIATES', 'PROTESTERS', 'PURSUERS', 'PURSUING BOAT', 'Pirate',\n",
       "       'Pirate Assault', 'Pirate Attack', 'Pirate Boarding',\n",
       "       'Pirate Hijacking', 'Pirate Kidnapping', 'Pirate Robbery',\n",
       "       'Pirate attack', 'Pirates', 'Pirates attacked a tug boat',\n",
       "       'Pirates or Narcotics Smugglers', 'Property stolen', 'Protest',\n",
       "       'Protesting', 'REBELS', 'RED SPEED BOATS', 'RIGHT-WING EXTREMISTS',\n",
       "       'RIVAL GANG', 'ROBBER', 'ROBBERD', 'ROBBERS', 'ROBBERY', 'ROBERS',\n",
       "       'RUSSIAN WARSHIP', 'Robbbers', 'Robber', 'Robber(s)', 'Robbers',\n",
       "       'Robbers aboard vessel', 'Robbers armed with knives',\n",
       "       'Robbers boarded a barge', 'Robbers boarded a container ship',\n",
       "       'Robbers boarded a tanker', 'Robbers boarded anchored tanker',\n",
       "       'Robbers boarded anchored vessel', 'Robbers boarded bulk carrier',\n",
       "       'Robbers boarded cargo ship',\n",
       "       'Robbers boarded drifting fishing boat',\n",
       "       'Robbers boarded merchant vessel', 'Robbers boarded sailing yacht',\n",
       "       'Robbers boarded ship', 'Robbers boarded tanker',\n",
       "       'Robbers on fishing boats',\n",
       "       'Robbers with guns boarded berthed tanker', 'Robbery',\n",
       "       'Robbery, kidnapping, killing', 'Robbres', 'Roobbers', 'SABOTEURS',\n",
       "       'SAHARAN GUERRILLAS', 'SEPARIST REBELS', 'SEVEN PIRATES',\n",
       "       'SHIPYARD WORKERS, VALLETTA MALTA', 'SHORESIDE PIRATES',\n",
       "       'SIUSPICIOUS APPROACH', 'SIX OR SEVEN SPEED BOATS', 'SMALL BOATS',\n",
       "       'SMALL CRAFT', 'SOMALI PATRIOTIC MOVEMENT (SPM)',\n",
       "       'SOMALIA NATIONAL MOVEMENT REBELS', 'SOMALIAN AUTHORITIES',\n",
       "       'SPEED BOAT', 'SPEED BOATS', 'SPEEDBOAT', 'SPEEDBOATS',\n",
       "       'SPPEDBOAT', 'SRI LANKAN NAVY', 'SRI LANKAN TAMIL SEPARATISTS',\n",
       "       'STALKER', 'STOW AWAY', 'STOWAWAY', 'STOWAWAYS',\n",
       "       'SUICIDE ATTACKER', 'SUICIDE BOAT ATTACK', 'SUSPCIOUS APPROACH',\n",
       "       'SUSPECIOUS CRAFT', 'SUSPECTED MILITANTS', 'SUSPECTED PIRATE',\n",
       "       'SUSPECTED TERRORISTS', 'SUSPICICIOUS APPROACH',\n",
       "       'SUSPICIOPUS APPROACH', 'SUSPICIOUS APPRAOCH',\n",
       "       'SUSPICIOUS APPROACH', 'SUSPICIOUS BOAT', 'SUSPICIOUS BOATS',\n",
       "       'SUSPICIOUS CRAFT', 'SUSPICIOUS CRAFTS', 'SUSPICIOUS VESSEL',\n",
       "       'SUSPICOUS APPROACH', 'SUSPICUIOUS APPROACH',\n",
       "       'SUSPIPICIOUS APPROACH', 'SUSPISIOUC CRAFT', 'SUS[ICIOUS APPROACH',\n",
       "       'SYRIA', 'SYRIAN GUNBOATS', 'Sailing Vessel', 'Seven Pirates',\n",
       "       'Seven individuals attempted boarding',\n",
       "       'Seven people in Pump Boats', 'Ship fired upon',\n",
       "       'Shots fired at rescue ship', 'Shots fired at vessel',\n",
       "       'Single robber boarded anchored research vessel', 'Six pirates',\n",
       "       'Sixteen Pirates', 'Skiff', 'Skiffs',\n",
       "       'Small boat with armed pirates', 'Small speedboats',\n",
       "       'Somalian Pirates', 'Speed Boats', 'Stowaway',\n",
       "       'Sucpicious Approach', 'Suspected Pirates',\n",
       "       'Suspected suicide cadres', 'Suspicious Approach',\n",
       "       'Suspicious Craft', 'Suspicious Vessel', 'Suspicious approach',\n",
       "       'Suspicious boat', 'Suspicious craft',\n",
       "       'Suspicious group onboard a trawler', 'Suspicious speedboats',\n",
       "       'Suspicous Approach', 'Suspisious Approach',\n",
       "       'TAMIL SEPARATIST REBELS', 'TERRORIST', 'TERRORISTS', 'THEIFT',\n",
       "       'THIEF', 'THIEVES', 'THREE PIRATES', 'THREE SPEED BOATS',\n",
       "       'THREE SPEEDBOATS', 'THREE WHITE SPEEDBOATS', 'THUGS', 'TUG BOAT',\n",
       "       'TUNA BOAT', 'TUNISIA', 'TURKISH NAVAL FORCES', 'TWO BLUE SKIFFS',\n",
       "       'TWO BOATS', 'TWO PIRATES', 'TWO SPEED BOATS', 'TWO SPEEDBOATS',\n",
       "       'TWO WHITE SPEED BOATS', 'Ten Pirates', 'Ten individuals boarded',\n",
       "       'Ten robbers armed with knives', 'Terrorist Attack',\n",
       "       'Threatening the crew at gunpoint', 'Three Pirates',\n",
       "       'Three Speed Boats', 'Three armed robbers', 'Three boats',\n",
       "       'Three robbers armed with knives',\n",
       "       'Three robbers boarded bulk carrier',\n",
       "       'Three robbers boarded tanker', 'Three robbers boarded vessel',\n",
       "       'Three skiffs', 'Three small vessels', 'Three speedboats',\n",
       "       'Two High-speed boats', 'Two White Skiffs',\n",
       "       'Two boats with 24 passengers hijacked', 'Two fishermen kidnapped',\n",
       "       'Two robbers attempted boarding vessel',\n",
       "       'Two robbers boarded anchored tanker', 'Two skiffs and a dhow',\n",
       "       'Two white speedboats',\n",
       "       'UNAUTHORISED PERSONS ENTERED THE ENGINE ROOM',\n",
       "       'UNAUTHORIZED PERSON', 'UNIDENTIFIED ATTACKER',\n",
       "       'UNIDENTIFIED ATTACKERS', 'UNIDENTIFIED GUNBOAT',\n",
       "       'UNIDENTIFIED PIRATES', 'UNIDENTIFIED TERRORISTS',\n",
       "       'UNIDENTIFIED VESSEL', 'UNKNOWN', 'UNKNOWN  TERRORISTS',\n",
       "       'UNKNOWN BOAT', 'UNKNOWN PEOPLE', 'UNSPECIFIED',\n",
       "       'Unauthorized person boarded',\n",
       "       'Unauthorized person in the engine room',\n",
       "       'Unauthorized persons onboard vessel', 'Unidentified Gun Boats',\n",
       "       'Unknown', 'Unknown Vessel', 'Unknown boarder', 'VANDALS',\n",
       "       'VIETNAMESE', 'VIETNAMESE PATROL BOATS', 'VIETNAMESE SOLDIERS',\n",
       "       'Vessel', 'Vessel boarded and items stolen',\n",
       "       'Vessel fired on from shore', 'Vessel fired upon', 'Vessel stolen',\n",
       "       'Vessels seized by Houthi militia', 'WHITE BOAT', 'WHITE CRAFT',\n",
       "       'WOODEN SPEED BOAT', 'White Skiff', 'YACHT', 'YEMENI GOVERNMENT',\n",
       "       'YUGOSLAV MILITARY GUNBOAT', 'YUGOSLAV NAVY', 'Yemeni Coast Guard',\n",
       "       'apparent chinese customs officials', 'assailants', 'assault',\n",
       "       'bOARDING', 'drug smuggling', 'explosion', 'gunboat', 'militiamen',\n",
       "       'pirates', 'pirates armed with rifles boarded',\n",
       "       'pirates in skiff fired upon vessel', 'robber', 'robbers',\n",
       "       'robbery', 'skiff with 8-10 individuals approached',\n",
       "       'suspicious approach', 'suspicious vessel', 'suspicous approach',\n",
       "       'two skiffs', 'unknown'], dtype=object)"
      ]
     },
     "execution_count": 20,
     "metadata": {},
     "output_type": "execute_result"
    }
   ],
   "source": [
    "h = df.hostility.unique()\n",
    "h.sort()\n",
    "h"
   ]
  },
  {
   "cell_type": "code",
   "execution_count": 21,
   "metadata": {},
   "outputs": [],
   "source": [
    "#df[df[\"hostility\"].str.contains(r\"^Su(s|c)(p|])\", regex=True, case=False)]\n",
    "\n",
    "\n",
    "df['hostility'] = df['hostility'].str.replace(r'(?i)^Su[sc][][p][ie].*', 'Suspicious Approach', regex=True)"
   ]
  },
  {
   "cell_type": "code",
   "execution_count": 22,
   "metadata": {},
   "outputs": [
    {
     "name": "stdout",
     "output_type": "stream",
     "text": [
      " This took us from 432 to 399\n"
     ]
    }
   ],
   "source": [
    "second_cut = df.hostility.nunique()\n",
    "print(f\" This took us from {first_cut} to {second_cut}\")"
   ]
  },
  {
   "cell_type": "code",
   "execution_count": null,
   "metadata": {},
   "outputs": [],
   "source": []
  },
  {
   "cell_type": "code",
   "execution_count": 23,
   "metadata": {},
   "outputs": [],
   "source": [
    "df['hostility'] = df['hostility'].str.replace(r'(?i)Protest.*', 'Protest', regex=True)\n",
    "df['hostility'] = df['hostility'].str.replace(r'(?i)Stow.*', 'Stowaway', regex=True)"
   ]
  },
  {
   "cell_type": "code",
   "execution_count": 24,
   "metadata": {},
   "outputs": [
    {
     "name": "stdout",
     "output_type": "stream",
     "text": [
      " This took us from 399 to 394\n"
     ]
    }
   ],
   "source": [
    "third_cut = df.hostility.nunique()\n",
    "print(f\" This took us from {second_cut} to {third_cut}\")"
   ]
  },
  {
   "cell_type": "code",
   "execution_count": null,
   "metadata": {},
   "outputs": [],
   "source": []
  },
  {
   "cell_type": "code",
   "execution_count": null,
   "metadata": {},
   "outputs": [],
   "source": []
  }
 ],
 "metadata": {
  "kernelspec": {
   "display_name": "Python 3 (ipykernel)",
   "language": "python",
   "name": "python3"
  },
  "language_info": {
   "codemirror_mode": {
    "name": "ipython",
    "version": 3
   },
   "file_extension": ".py",
   "mimetype": "text/x-python",
   "name": "python",
   "nbconvert_exporter": "python",
   "pygments_lexer": "ipython3",
   "version": "3.9.12"
  }
 },
 "nbformat": 4,
 "nbformat_minor": 2
}
