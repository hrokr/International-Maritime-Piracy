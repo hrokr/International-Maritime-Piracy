{
 "cells": [
  {
   "cell_type": "code",
   "execution_count": null,
   "id": "55a5f3ab",
   "metadata": {},
   "outputs": [],
   "source": [
    "import os\n",
    "import re\n",
    "\n",
    "import pandas as pd"
   ]
  },
  {
   "cell_type": "code",
   "execution_count": null,
   "id": "d74eb890",
   "metadata": {
    "scrolled": true
   },
   "outputs": [],
   "source": [
    "data_directory = os.path.join('../data','RAW_ASAM.csv')\n",
    "\n",
    "#skipinitialspace is so cool. No need to lstrip any of the columns\n",
    "\n",
    "df = pd.read_csv(data_directory, skipinitialspace = True)\n",
    "df.head()"
   ]
  },
  {
   "cell_type": "code",
   "execution_count": null,
   "id": "b1ddd4d3",
   "metadata": {},
   "outputs": [],
   "source": [
    "def preprocess (df):\n",
    "    df.dropna(subset=['description'], inplace=True)\n",
    "    df.dropna(axis=1, how='all', inplace=True)\n",
    "    df.fillna(\"No information\", inplace=True)"
   ]
  },
  {
   "cell_type": "code",
   "execution_count": null,
   "id": "44c04e35",
   "metadata": {},
   "outputs": [],
   "source": [
    "preprocess(df)"
   ]
  },
  {
   "cell_type": "code",
   "execution_count": null,
   "id": "713cf866",
   "metadata": {},
   "outputs": [],
   "source": [
    "df"
   ]
  },
  {
   "cell_type": "code",
   "execution_count": null,
   "id": "fb36c34a",
   "metadata": {},
   "outputs": [],
   "source": []
  }
 ],
 "metadata": {
  "kernelspec": {
   "display_name": "Python 3 (ipykernel)",
   "language": "python",
   "name": "python3"
  },
  "language_info": {
   "codemirror_mode": {
    "name": "ipython",
    "version": 3
   },
   "file_extension": ".py",
   "mimetype": "text/x-python",
   "name": "python",
   "nbconvert_exporter": "python",
   "pygments_lexer": "ipython3",
   "version": "3.9.12"
  }
 },
 "nbformat": 4,
 "nbformat_minor": 5
}
