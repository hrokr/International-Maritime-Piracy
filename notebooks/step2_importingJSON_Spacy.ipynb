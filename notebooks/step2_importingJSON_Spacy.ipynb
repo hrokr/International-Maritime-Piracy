{
 "cells": [
  {
   "cell_type": "code",
   "execution_count": 1,
   "metadata": {},
   "outputs": [
    {
     "name": "stdout",
     "output_type": "stream",
     "text": [
      "Modern_NLP_in_Python.ipynb       step2_importingJSON_Spacy.ipynb\r\n",
      "step1_munging_and_eda.ipynb\r\n"
     ]
    }
   ],
   "source": [
    "ls"
   ]
  },
  {
   "cell_type": "code",
   "execution_count": 2,
   "metadata": {},
   "outputs": [],
   "source": [
    "import os\n",
    "import codecs\n",
    "import json\n"
   ]
  },
  {
   "cell_type": "code",
   "execution_count": 3,
   "metadata": {
    "scrolled": false
   },
   "outputs": [],
   "source": [
    "data_directory = os.path.join('../data', 'mungedASAM.json')  \n"
   ]
  },
  {
   "cell_type": "code",
   "execution_count": 4,
   "metadata": {},
   "outputs": [],
   "source": [
    "events = [i for i in range(7843)]\n",
    "events;"
   ]
  },
  {
   "cell_type": "code",
   "execution_count": 5,
   "metadata": {},
   "outputs": [],
   "source": [
    "event_ids = set(events);"
   ]
  },
  {
   "cell_type": "markdown",
   "metadata": {},
   "source": [
    "### This works but I think might be slower"
   ]
  },
  {
   "cell_type": "code",
   "execution_count": 28,
   "metadata": {},
   "outputs": [],
   "source": [
    "event_descriptions=set()\n",
    "data_directory=os.path.join('../data', 'mungedASAM.json')  \n",
    "with codecs.open(data_directory, encoding='utf_8') as f:\n",
    "     for event_json in f:\n",
    "        event = json.loads(event_json)\n",
    "        for item in event:         \n",
    "           event_descriptions.add(item[u'description'])"
   ]
  },
  {
   "cell_type": "markdown",
   "metadata": {},
   "source": [
    "### Than this"
   ]
  },
  {
   "cell_type": "code",
   "execution_count": 17,
   "metadata": {},
   "outputs": [],
   "source": [
    "intermediate_directory = os.path.join('../data',)\n",
    "\n",
    "event_txt_filepath = os.path.join(intermediate_directory,\n",
    "                                   'all_descriptions.txt')"
   ]
  },
  {
   "cell_type": "code",
   "execution_count": 30,
   "metadata": {},
   "outputs": [],
   "source": [
    "#event_descriptions"
   ]
  },
  {
   "cell_type": "code",
   "execution_count": 33,
   "metadata": {},
   "outputs": [
    {
     "name": "stdout",
     "output_type": "stream",
     "text": [
      "CPU times: user 2.35 s, sys: 386 ms, total: 2.73 s\n",
      "Wall time: 2.73 s\n"
     ]
    }
   ],
   "source": [
    "%%time\n",
    "\n",
    "# this took a while. make the if statement True to run; otherwise keep it off.\n",
    "\n",
    "if 1 == 1:\n",
    "    \n",
    "    count = 0\n",
    "\n",
    "    with codecs.open(event_txt_filepath, 'w', encoding='utf_8') as event_txt_file:\n",
    "        with codecs.open(data_directory, encoding='utf_8') as event_json_file:\n",
    "            for event_json in event_json_file:                \n",
    "                event = json.loads(event_json)\n",
    "                for item in event:\n",
    "                    event_txt_file.write(item[u'description'].replace('\\n', '\\\\n') + '\\n')\n",
    "                    count += 1\n",
    "    \n",
    "else:\n",
    "    \n",
    "    with codecs.open(event_txt_filepath, encoding='utf_8') as event_txt_file:\n",
    "        for event_count, line in enumerate(event_txt_file):\n",
    "            pass\n",
    "        \n"
   ]
  },
  {
   "cell_type": "code",
   "execution_count": 16,
   "metadata": {},
   "outputs": [
    {
     "data": {
      "text/plain": [
       "'/Users/alex/Galvanize/Work_Done/projects/Capstone_Projects/International-Maritime-Piracy/notebooks'"
      ]
     },
     "execution_count": 16,
     "metadata": {},
     "output_type": "execute_result"
    }
   ],
   "source": [
    "pwd"
   ]
  },
  {
   "cell_type": "code",
   "execution_count": null,
   "metadata": {},
   "outputs": [],
   "source": []
  }
 ],
 "metadata": {
  "kernelspec": {
   "display_name": "Python 3",
   "language": "python",
   "name": "python3"
  },
  "language_info": {
   "codemirror_mode": {
    "name": "ipython",
    "version": 3
   },
   "file_extension": ".py",
   "mimetype": "text/x-python",
   "name": "python",
   "nbconvert_exporter": "python",
   "pygments_lexer": "ipython3",
   "version": "3.7.3"
  }
 },
 "nbformat": 4,
 "nbformat_minor": 2
}
