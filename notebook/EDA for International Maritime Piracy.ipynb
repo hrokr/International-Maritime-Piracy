{
 "cells": [
  {
   "cell_type": "markdown",
   "metadata": {},
   "source": [
    "# <center> International Maritime Piracy </center> \n"
   ]
  },
  {
   "cell_type": "markdown",
   "metadata": {},
   "source": [
    "This is part of my EDA process along what I was thinking. This next field (The What, the How) contains the remainder of the EDA questions I have. The code serves only as example as it is contained it /src folder"
   ]
  },
  {
   "cell_type": "markdown",
   "metadata": {},
   "source": [
    "#### The What\n",
    "\n",
    "* __Basic Location & Time Trends__\n",
    "    * What are the year on year trends? \n",
    "    * When during the year are attacks most common?\n",
    "    * Are there any days of the weeks where attaks don't occur (e.g. Friday in MENA or Sunday in Catholic areas)?\n",
    " \n",
    "* __Via Text__\n",
    "    * How many kidnappings were there?\n",
    "    * How many murders or killings were there?\n",
    "    * What about attackers? How may of there were killed?\n",
    "\n",
    "* __Inland/Offshore__\n",
    "    * Is it possible to know, using a mask of land coverage, how far from shore attacks occur?\n",
    "    * What about ones that are more than a mile or so?\n",
    "    \n",
    "* __Statistical Analysis__\n",
    "    * Would like to \n",
    " \n",
    "#### The How  \n",
    " \n",
    "* __Mapping the Attacks__\n",
    "    * Need either something with a good API or use something like Folium  \n",
    "    * (NavArea or SubReg overlay)\n",
    "    \n",
    "* __Other Goals__\n",
    "    * Containerized Web App (AWS, Azure or GCP -- possibly even Heroku or Linode if free)\n",
    "    "
   ]
  },
  {
   "cell_type": "markdown",
   "metadata": {},
   "source": []
  },
  {
   "cell_type": "code",
   "execution_count": 1,
   "metadata": {},
   "outputs": [],
   "source": [
    "import pandas as pd\n",
    "import re"
   ]
  },
  {
   "cell_type": "code",
   "execution_count": 2,
   "metadata": {},
   "outputs": [],
   "source": [
    "data = pd.read_csv('../data/piracy.csv')"
   ]
  },
  {
   "cell_type": "markdown",
   "metadata": {},
   "source": [
    "### See if pandas will read the csv without creating the second line and see if anything is odd."
   ]
  },
  {
   "cell_type": "code",
   "execution_count": 3,
   "metadata": {},
   "outputs": [
    {
     "data": {
      "text/html": [
       "<div>\n",
       "<style scoped>\n",
       "    .dataframe tbody tr th:only-of-type {\n",
       "        vertical-align: middle;\n",
       "    }\n",
       "\n",
       "    .dataframe tbody tr th {\n",
       "        vertical-align: top;\n",
       "    }\n",
       "\n",
       "    .dataframe thead th {\n",
       "        text-align: right;\n",
       "    }\n",
       "</style>\n",
       "<table border=\"1\" class=\"dataframe\">\n",
       "  <thead>\n",
       "    <tr style=\"text-align: right;\">\n",
       "      <th></th>\n",
       "      <th>reference</th>\n",
       "      <th>date</th>\n",
       "      <th>position</th>\n",
       "      <th>navArea</th>\n",
       "      <th>subreg</th>\n",
       "      <th>hostility</th>\n",
       "      <th>victim</th>\n",
       "      <th>description</th>\n",
       "      <th>Unnamed: 8</th>\n",
       "    </tr>\n",
       "  </thead>\n",
       "  <tbody>\n",
       "    <tr>\n",
       "      <th>0</th>\n",
       "      <td>2019-73</td>\n",
       "      <td>2019-09-30</td>\n",
       "      <td>1°02'42\"N \\n103°39'00\"E</td>\n",
       "      <td>XI</td>\n",
       "      <td>71</td>\n",
       "      <td>Five Armed robbers</td>\n",
       "      <td>Bulk Carrier</td>\n",
       "      <td>, SINGAPORE STRAITS. DECK CREW ON ROUTINE ROUN...</td>\n",
       "      <td>NaN</td>\n",
       "    </tr>\n",
       "    <tr>\n",
       "      <th>1</th>\n",
       "      <td>2019-72</td>\n",
       "      <td>2019-09-28</td>\n",
       "      <td>5°19'30\"N \\n119°43'42\"E</td>\n",
       "      <td>XI</td>\n",
       "      <td>92</td>\n",
       "      <td>Two High-speed boats</td>\n",
       "      <td>Bulk Carrier</td>\n",
       "      <td>AROUND 12NM NW OF TAWI-TAWI ISLAND, PHILIPPINE...</td>\n",
       "      <td>NaN</td>\n",
       "    </tr>\n",
       "    <tr>\n",
       "      <th>2</th>\n",
       "      <td>2019-75</td>\n",
       "      <td>2019-09-23</td>\n",
       "      <td>6°16'60\"N \\n3°13'60\"E</td>\n",
       "      <td>II</td>\n",
       "      <td>57</td>\n",
       "      <td>NaN</td>\n",
       "      <td>NaN</td>\n",
       "      <td>On September 23rd a duty watchman on board a t...</td>\n",
       "      <td>NaN</td>\n",
       "    </tr>\n",
       "    <tr>\n",
       "      <th>3</th>\n",
       "      <td>2019-74</td>\n",
       "      <td>2019-09-23</td>\n",
       "      <td>5°27'53.15\"N \\n119°07'17.75\"E</td>\n",
       "      <td>XI</td>\n",
       "      <td>72</td>\n",
       "      <td>Seven people in Pump Boats</td>\n",
       "      <td>two fishing vessels</td>\n",
       "      <td>TWO FISHING BOATS SAILED TOWARDS TAMBISAN FOR ...</td>\n",
       "      <td>NaN</td>\n",
       "    </tr>\n",
       "    <tr>\n",
       "      <th>4</th>\n",
       "      <td>2019-76</td>\n",
       "      <td>2019-09-16</td>\n",
       "      <td>9°25'00\"N \\n13°43'60\"W</td>\n",
       "      <td>II</td>\n",
       "      <td>51</td>\n",
       "      <td>Four armed robbers</td>\n",
       "      <td>Tanker</td>\n",
       "      <td>On September 16th four robbers armed with a gu...</td>\n",
       "      <td>NaN</td>\n",
       "    </tr>\n",
       "  </tbody>\n",
       "</table>\n",
       "</div>"
      ],
      "text/plain": [
       "  reference        date                       position navArea  subreg  \\\n",
       "0   2019-73  2019-09-30        1°02'42\"N \\n103°39'00\"E      XI      71   \n",
       "1   2019-72  2019-09-28        5°19'30\"N \\n119°43'42\"E      XI      92   \n",
       "2   2019-75  2019-09-23          6°16'60\"N \\n3°13'60\"E      II      57   \n",
       "3   2019-74  2019-09-23  5°27'53.15\"N \\n119°07'17.75\"E      XI      72   \n",
       "4   2019-76  2019-09-16         9°25'00\"N \\n13°43'60\"W      II      51   \n",
       "\n",
       "                    hostility               victim  \\\n",
       "0          Five Armed robbers         Bulk Carrier   \n",
       "1        Two High-speed boats         Bulk Carrier   \n",
       "2                         NaN                  NaN   \n",
       "3  Seven people in Pump Boats  two fishing vessels   \n",
       "4          Four armed robbers               Tanker   \n",
       "\n",
       "                                         description  Unnamed: 8  \n",
       "0  , SINGAPORE STRAITS. DECK CREW ON ROUTINE ROUN...         NaN  \n",
       "1  AROUND 12NM NW OF TAWI-TAWI ISLAND, PHILIPPINE...         NaN  \n",
       "2  On September 23rd a duty watchman on board a t...         NaN  \n",
       "3  TWO FISHING BOATS SAILED TOWARDS TAMBISAN FOR ...         NaN  \n",
       "4  On September 16th four robbers armed with a gu...         NaN  "
      ]
     },
     "execution_count": 3,
     "metadata": {},
     "output_type": "execute_result"
    }
   ],
   "source": [
    "data.head(5)"
   ]
  },
  {
   "cell_type": "markdown",
   "metadata": {},
   "source": [
    "### Unnamed: 8 is odd. Is it all NaNs or something else? "
   ]
  },
  {
   "cell_type": "code",
   "execution_count": 4,
   "metadata": {},
   "outputs": [
    {
     "data": {
      "text/plain": [
       "array([nan])"
      ]
     },
     "execution_count": 4,
     "metadata": {},
     "output_type": "execute_result"
    }
   ],
   "source": [
    "data['Unnamed: 8'].unique()"
   ]
  },
  {
   "cell_type": "code",
   "execution_count": 5,
   "metadata": {},
   "outputs": [],
   "source": [
    "data.drop(['Unnamed: 8'], axis=1, inplace=True)"
   ]
  },
  {
   "cell_type": "code",
   "execution_count": 6,
   "metadata": {},
   "outputs": [
    {
     "data": {
      "text/html": [
       "<div>\n",
       "<style scoped>\n",
       "    .dataframe tbody tr th:only-of-type {\n",
       "        vertical-align: middle;\n",
       "    }\n",
       "\n",
       "    .dataframe tbody tr th {\n",
       "        vertical-align: top;\n",
       "    }\n",
       "\n",
       "    .dataframe thead th {\n",
       "        text-align: right;\n",
       "    }\n",
       "</style>\n",
       "<table border=\"1\" class=\"dataframe\">\n",
       "  <thead>\n",
       "    <tr style=\"text-align: right;\">\n",
       "      <th></th>\n",
       "      <th>reference</th>\n",
       "      <th>date</th>\n",
       "      <th>position</th>\n",
       "      <th>navArea</th>\n",
       "      <th>subreg</th>\n",
       "      <th>hostility</th>\n",
       "      <th>victim</th>\n",
       "      <th>description</th>\n",
       "    </tr>\n",
       "  </thead>\n",
       "  <tbody>\n",
       "    <tr>\n",
       "      <th>7841</th>\n",
       "      <td>1985-2</td>\n",
       "      <td>1978-05-16</td>\n",
       "      <td>7°59'60\"N \\n119°59'60\"E</td>\n",
       "      <td>XI</td>\n",
       "      <td>92</td>\n",
       "      <td>PIRATES</td>\n",
       "      <td>MERCHANT VESSEL</td>\n",
       "      <td>SULU SEA: Lloyd's List of 15 May reports a 5,0...</td>\n",
       "    </tr>\n",
       "    <tr>\n",
       "      <th>7842</th>\n",
       "      <td>1989-12</td>\n",
       "      <td>1978-05-01</td>\n",
       "      <td>5°59'60\"N \\n119°30'00\"E</td>\n",
       "      <td>XI</td>\n",
       "      <td>92</td>\n",
       "      <td>UNKNOWN</td>\n",
       "      <td>UNKNOWN VESSEL</td>\n",
       "      <td>SOUTH SULU SEA                                ...</td>\n",
       "    </tr>\n",
       "  </tbody>\n",
       "</table>\n",
       "</div>"
      ],
      "text/plain": [
       "     reference        date                 position navArea  subreg hostility  \\\n",
       "7841    1985-2  1978-05-16  7°59'60\"N \\n119°59'60\"E      XI      92   PIRATES   \n",
       "7842   1989-12  1978-05-01  5°59'60\"N \\n119°30'00\"E      XI      92   UNKNOWN   \n",
       "\n",
       "               victim                                        description  \n",
       "7841  MERCHANT VESSEL  SULU SEA: Lloyd's List of 15 May reports a 5,0...  \n",
       "7842   UNKNOWN VESSEL  SOUTH SULU SEA                                ...  "
      ]
     },
     "execution_count": 6,
     "metadata": {},
     "output_type": "execute_result"
    }
   ],
   "source": [
    "data.tail(2)"
   ]
  },
  {
   "cell_type": "markdown",
   "metadata": {},
   "source": [
    "### Looks like there are 7825 attacks with all the fields filled out. "
   ]
  },
  {
   "cell_type": "code",
   "execution_count": 7,
   "metadata": {},
   "outputs": [
    {
     "name": "stdout",
     "output_type": "stream",
     "text": [
      "<class 'pandas.core.frame.DataFrame'>\n",
      "RangeIndex: 7843 entries, 0 to 7842\n",
      "Data columns (total 8 columns):\n",
      "reference      7843 non-null object\n",
      "date           7843 non-null object\n",
      "position       7843 non-null object\n",
      "navArea        7840 non-null object\n",
      "subreg         7843 non-null int64\n",
      "hostility      7833 non-null object\n",
      "victim         7829 non-null object\n",
      "description    7843 non-null object\n",
      "dtypes: int64(1), object(7)\n",
      "memory usage: 490.3+ KB\n"
     ]
    }
   ],
   "source": [
    "data.info()"
   ]
  },
  {
   "cell_type": "markdown",
   "metadata": {},
   "source": [
    "### Split postion into Lat/Lon in prep for conversion to decimal degrees"
   ]
  },
  {
   "cell_type": "code",
   "execution_count": 8,
   "metadata": {},
   "outputs": [],
   "source": [
    "# data['position'].str.partition('\\n')[[2, 2]].rename({2: 'lat', 3: 'loing'}, axis=1)\n",
    "# data['Latitude'], data['Longitude'] = data['position'].str.split(\"\\n\", expand=True)\n",
    "# data.join(data['position'].str.split('\\n', 1, expand=True).rename(columns={0:'Lat', 1:'Long'}))\n",
    "\n",
    "# above is part of the graveyard of ineffective pandas code\n",
    "\n",
    "data = data.join(data['position'].str.split(expand=True)).rename(columns={0:'Latitude', 1:'Longitude'})\n",
    "data.drop('position', axis=1, inplace=True)\n"
   ]
  },
  {
   "cell_type": "code",
   "execution_count": 9,
   "metadata": {},
   "outputs": [],
   "source": [
    "def dms2dd(s):\n",
    "    # example: s = \"\"\"0°51'56.29\"S\"\"\"\n",
    "    degrees, minutes, seconds, direction = re.split('[°\\'\"]+', s)\n",
    "    dd = float(degrees) + float(minutes)/60 + float(seconds)/(60*60);\n",
    "    if direction in ('S','W'):\n",
    "        dd*= -1\n",
    "    return dd"
   ]
  },
  {
   "cell_type": "code",
   "execution_count": 10,
   "metadata": {},
   "outputs": [],
   "source": [
    "data['Latitude'] = data['Latitude'].apply(dms2dd).round(6)\n",
    "data['Longitude'] = data['Longitude'].apply(dms2dd).round(6)"
   ]
  },
  {
   "cell_type": "code",
   "execution_count": 11,
   "metadata": {
    "scrolled": true
   },
   "outputs": [
    {
     "data": {
      "text/html": [
       "<div>\n",
       "<style scoped>\n",
       "    .dataframe tbody tr th:only-of-type {\n",
       "        vertical-align: middle;\n",
       "    }\n",
       "\n",
       "    .dataframe tbody tr th {\n",
       "        vertical-align: top;\n",
       "    }\n",
       "\n",
       "    .dataframe thead th {\n",
       "        text-align: right;\n",
       "    }\n",
       "</style>\n",
       "<table border=\"1\" class=\"dataframe\">\n",
       "  <thead>\n",
       "    <tr style=\"text-align: right;\">\n",
       "      <th></th>\n",
       "      <th>reference</th>\n",
       "      <th>date</th>\n",
       "      <th>navArea</th>\n",
       "      <th>subreg</th>\n",
       "      <th>hostility</th>\n",
       "      <th>victim</th>\n",
       "      <th>description</th>\n",
       "      <th>Latitude</th>\n",
       "      <th>Longitude</th>\n",
       "    </tr>\n",
       "  </thead>\n",
       "  <tbody>\n",
       "    <tr>\n",
       "      <th>0</th>\n",
       "      <td>2019-73</td>\n",
       "      <td>2019-09-30</td>\n",
       "      <td>XI</td>\n",
       "      <td>71</td>\n",
       "      <td>Five Armed robbers</td>\n",
       "      <td>Bulk Carrier</td>\n",
       "      <td>, SINGAPORE STRAITS. DECK CREW ON ROUTINE ROUN...</td>\n",
       "      <td>1.045</td>\n",
       "      <td>103.650000</td>\n",
       "    </tr>\n",
       "    <tr>\n",
       "      <th>1</th>\n",
       "      <td>2019-72</td>\n",
       "      <td>2019-09-28</td>\n",
       "      <td>XI</td>\n",
       "      <td>92</td>\n",
       "      <td>Two High-speed boats</td>\n",
       "      <td>Bulk Carrier</td>\n",
       "      <td>AROUND 12NM NW OF TAWI-TAWI ISLAND, PHILIPPINE...</td>\n",
       "      <td>5.325</td>\n",
       "      <td>119.728333</td>\n",
       "    </tr>\n",
       "  </tbody>\n",
       "</table>\n",
       "</div>"
      ],
      "text/plain": [
       "  reference        date navArea  subreg             hostility        victim  \\\n",
       "0   2019-73  2019-09-30      XI      71    Five Armed robbers  Bulk Carrier   \n",
       "1   2019-72  2019-09-28      XI      92  Two High-speed boats  Bulk Carrier   \n",
       "\n",
       "                                         description  Latitude   Longitude  \n",
       "0  , SINGAPORE STRAITS. DECK CREW ON ROUTINE ROUN...     1.045  103.650000  \n",
       "1  AROUND 12NM NW OF TAWI-TAWI ISLAND, PHILIPPINE...     5.325  119.728333  "
      ]
     },
     "execution_count": 11,
     "metadata": {},
     "output_type": "execute_result"
    }
   ],
   "source": [
    "data.head(2)"
   ]
  },
  {
   "cell_type": "code",
   "execution_count": null,
   "metadata": {},
   "outputs": [],
   "source": []
  },
  {
   "cell_type": "markdown",
   "metadata": {},
   "source": [
    "### Under 'hostility' - how many different terms are there? 323"
   ]
  },
  {
   "cell_type": "code",
   "execution_count": 12,
   "metadata": {},
   "outputs": [
    {
     "data": {
      "text/plain": [
       "327"
      ]
     },
     "execution_count": 12,
     "metadata": {},
     "output_type": "execute_result"
    }
   ],
   "source": [
    "data['hostility'].nunique()"
   ]
  },
  {
   "cell_type": "markdown",
   "metadata": {},
   "source": [
    "### Under 'victim' - how many different terms are there? 1224"
   ]
  },
  {
   "cell_type": "code",
   "execution_count": 13,
   "metadata": {},
   "outputs": [
    {
     "data": {
      "text/plain": [
       "1224"
      ]
     },
     "execution_count": 13,
     "metadata": {},
     "output_type": "execute_result"
    }
   ],
   "source": [
    "data['victim'].nunique()\n"
   ]
  },
  {
   "cell_type": "code",
   "execution_count": null,
   "metadata": {},
   "outputs": [],
   "source": []
  },
  {
   "cell_type": "code",
   "execution_count": 14,
   "metadata": {},
   "outputs": [],
   "source": [
    "data.to_csv('../data/data_pipe.csv', sep='|', encoding='utf-8')"
   ]
  },
  {
   "cell_type": "markdown",
   "metadata": {},
   "source": [
    "### Check to see if it worked"
   ]
  },
  {
   "cell_type": "code",
   "execution_count": 15,
   "metadata": {},
   "outputs": [
    {
     "name": "stdout",
     "output_type": "stream",
     "text": [
      "EDA for International Maritime Piracy.ipynb\r\n",
      "Untitled.ipynb\r\n",
      "data.csv\r\n"
     ]
    }
   ],
   "source": [
    "ls"
   ]
  },
  {
   "cell_type": "code",
   "execution_count": null,
   "metadata": {},
   "outputs": [],
   "source": []
  }
 ],
 "metadata": {
  "kernelspec": {
   "display_name": "Python 3",
   "language": "python",
   "name": "python3"
  },
  "language_info": {
   "codemirror_mode": {
    "name": "ipython",
    "version": 3
   },
   "file_extension": ".py",
   "mimetype": "text/x-python",
   "name": "python",
   "nbconvert_exporter": "python",
   "pygments_lexer": "ipython3",
   "version": "3.7.3"
  }
 },
 "nbformat": 4,
 "nbformat_minor": 2
}
